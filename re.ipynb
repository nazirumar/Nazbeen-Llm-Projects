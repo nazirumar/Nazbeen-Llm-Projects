{
 "cells": [
  {
   "cell_type": "code",
   "execution_count": 1,
   "id": "b9bd8438",
   "metadata": {},
   "outputs": [],
   "source": [
    "import re"
   ]
  },
  {
   "cell_type": "code",
   "execution_count": 20,
   "id": "98e3dfa2",
   "metadata": {},
   "outputs": [
    {
     "name": "stdout",
     "output_type": "stream",
     "text": [
      "<re.Match object; span=(0, 7), match='nazbeen'>\n"
     ]
    }
   ],
   "source": [
    "string = 'nazbeen is the web developer in 2024'\n",
    "pattern = 'nazbeen'\n",
    "pattern2 = 'kali'\n",
    "\n",
    "result =re.match(pattern, string)\n",
    "print(result)"
   ]
  },
  {
   "cell_type": "code",
   "execution_count": 41,
   "id": "b138c95b",
   "metadata": {},
   "outputs": [
    {
     "name": "stdout",
     "output_type": "stream",
     "text": [
      "developer\n"
     ]
    }
   ],
   "source": [
    "string = 'nazbeen is the web developer in 2024'\n",
    "pattern = 'developer'\n",
    "\n",
    "result =re.search(pattern, string).group(0)\n",
    "print(result)"
   ]
  },
  {
   "cell_type": "code",
   "execution_count": 28,
   "id": "c23a42c5",
   "metadata": {},
   "outputs": [
    {
     "name": "stdout",
     "output_type": "stream",
     "text": [
      "['nazbeen', 'nazbeen']\n"
     ]
    }
   ],
   "source": [
    "string = 'nazbeen is the web developer in 2024 and nazbeen is a machine learning engineer'\n",
    "pattern = 'nazbeen'\n",
    "\n",
    "result =re.findall(pattern, string)\n",
    "print(result)"
   ]
  },
  {
   "cell_type": "code",
   "execution_count": 32,
   "id": "215a6a78",
   "metadata": {},
   "outputs": [
    {
     "name": "stdout",
     "output_type": "stream",
     "text": [
      "0\n",
      "41\n"
     ]
    }
   ],
   "source": [
    "string = 'nazbeen is the web developer in 2024 and nazbeen is a machine learning engineer'\n",
    "pattern = 'nazbeen'\n",
    "\n",
    "result =re.finditer(pattern, string)\n",
    "for m in result:\n",
    "    print(m.start())"
   ]
  },
  {
   "cell_type": "code",
   "execution_count": null,
   "id": "e8222cdb",
   "metadata": {},
   "outputs": [],
   "source": [
    "# Find"
   ]
  },
  {
   "cell_type": "code",
   "execution_count": 42,
   "id": "7013dcfb",
   "metadata": {},
   "outputs": [
    {
     "name": "stdout",
     "output_type": "stream",
     "text": [
      "['1995', '1999']\n"
     ]
    }
   ],
   "source": [
    "string = \"nazbeen was born on 12-10-1995 and he was admitted to school on 15-12-1999\"\n",
    "pattern = '\\d{2}-\\d{2}-\\d{4}'\n",
    "\n",
    "result =re.findall(pattern, string)\n",
    "print(result)"
   ]
  },
  {
   "cell_type": "code",
   "execution_count": 56,
   "id": "76c542a2",
   "metadata": {},
   "outputs": [
    {
     "name": "stdout",
     "output_type": "stream",
     "text": [
      "nazkeer@gmail.com\n"
     ]
    }
   ],
   "source": [
    "string = \"contact me on nazkeer@gmail.com\"\n",
    "pattern =\"([\\w.-]+)@([\\w.-]+)\"\n",
    "match = re.search(pattern, string)\n",
    "print(match.group(0))"
   ]
  },
  {
   "cell_type": "code",
   "execution_count": null,
   "id": "9b3b90f7",
   "metadata": {},
   "outputs": [],
   "source": [
    "# Replace "
   ]
  },
  {
   "cell_type": "code",
   "execution_count": 40,
   "id": "58f98766",
   "metadata": {},
   "outputs": [
    {
     "name": "stdout",
     "output_type": "stream",
     "text": [
      "nazbeen was born on Monday and he was admitted to school on Monday\n"
     ]
    }
   ],
   "source": [
    "string = \"nazbeen was born on 12-10-1995 and he was admitted to school on 15-12-1999\"\n",
    "pattern = '\\d{2}-\\d{2}-\\d{4}'\n",
    "\n",
    "result =re.sub(pattern, \"Monday\", string)\n",
    "print(result)"
   ]
  }
 ],
 "metadata": {
  "kernelspec": {
   "display_name": "Python 3 (ipykernel)",
   "language": "python",
   "name": "python3"
  },
  "language_info": {
   "codemirror_mode": {
    "name": "ipython",
    "version": 3
   },
   "file_extension": ".py",
   "mimetype": "text/x-python",
   "name": "python",
   "nbconvert_exporter": "python",
   "pygments_lexer": "ipython3",
   "version": "3.11.9"
  }
 },
 "nbformat": 4,
 "nbformat_minor": 5
}
