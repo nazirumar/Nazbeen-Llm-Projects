{
 "cells": [
  {
   "cell_type": "code",
   "execution_count": null,
   "id": "cb92d093",
   "metadata": {},
   "outputs": [],
   "source": [
    "# pip install nltk"
   ]
  },
  {
   "cell_type": "code",
   "execution_count": 1,
   "id": "387ae49f",
   "metadata": {},
   "outputs": [],
   "source": [
    "from nltk.tokenize import sent_tokenize, word_tokenize\n",
    "\n",
    "text = \"hi John, how are you doing ? I iwll be travelling to your city. Lets Catchup\""
   ]
  },
  {
   "cell_type": "code",
   "execution_count": 2,
   "id": "e7e1a9aa",
   "metadata": {},
   "outputs": [
    {
     "data": {
      "text/plain": [
       "['hi John, how are you doing ?',\n",
       " 'I iwll be travelling to your city.',\n",
       " 'Lets Catchup']"
      ]
     },
     "execution_count": 2,
     "metadata": {},
     "output_type": "execute_result"
    }
   ],
   "source": [
    "sent_tokenize(text)"
   ]
  },
  {
   "cell_type": "code",
   "execution_count": 3,
   "id": "ff1be71d",
   "metadata": {},
   "outputs": [
    {
     "data": {
      "text/plain": [
       "['hi',\n",
       " 'John',\n",
       " ',',\n",
       " 'how',\n",
       " 'are',\n",
       " 'you',\n",
       " 'doing',\n",
       " '?',\n",
       " 'I',\n",
       " 'iwll',\n",
       " 'be',\n",
       " 'travelling',\n",
       " 'to',\n",
       " 'your',\n",
       " 'city',\n",
       " '.',\n",
       " 'Lets',\n",
       " 'Catchup']"
      ]
     },
     "execution_count": 3,
     "metadata": {},
     "output_type": "execute_result"
    }
   ],
   "source": [
    "word_tokenize(text)"
   ]
  },
  {
   "cell_type": "code",
   "execution_count": 29,
   "id": "54113ca3",
   "metadata": {},
   "outputs": [
    {
     "name": "stdout",
     "output_type": "stream",
     "text": [
      "decreas\n"
     ]
    }
   ],
   "source": [
    "from nltk.stem import PorterStemmer\n",
    "\n",
    "stemmer = PorterStemmer()\n",
    "\n",
    "print(stemmer.stem(\"decreases\"))"
   ]
  },
  {
   "cell_type": "code",
   "execution_count": 41,
   "id": "f63347b2",
   "metadata": {},
   "outputs": [],
   "source": [
    "from nltk.stem import WordNetLemmatizer\n",
    "\n",
    "lemm = WordNetLemmatizer()\n",
    "\n"
   ]
  },
  {
   "cell_type": "code",
   "execution_count": 42,
   "id": "b2e8b823",
   "metadata": {},
   "outputs": [
    {
     "name": "stdout",
     "output_type": "stream",
     "text": [
      "controlling\n"
     ]
    }
   ],
   "source": [
    "# best for nlp\n",
    "print(lemm.lemmatize(\"increase\"))"
   ]
  },
  {
   "cell_type": "code",
   "execution_count": 15,
   "id": "e9f1c5b3",
   "metadata": {},
   "outputs": [
    {
     "data": {
      "text/plain": [
       "[('hi', 'NN'),\n",
       " ('John', 'NNP'),\n",
       " (',', ','),\n",
       " ('how', 'WRB'),\n",
       " ('are', 'VBP'),\n",
       " ('you', 'PRP'),\n",
       " ('doing', 'VBG'),\n",
       " ('?', '.'),\n",
       " ('I', 'PRP'),\n",
       " ('iwll', 'VBP'),\n",
       " ('be', 'VB'),\n",
       " ('travelling', 'VBG'),\n",
       " ('to', 'TO'),\n",
       " ('your', 'PRP$'),\n",
       " ('city', 'NN'),\n",
       " ('.', '.'),\n",
       " ('Lets', 'VBZ'),\n",
       " ('Catchup', 'NNP')]"
      ]
     },
     "execution_count": 15,
     "metadata": {},
     "output_type": "execute_result"
    }
   ],
   "source": [
    "from nltk import pos_tag\n",
    "\n",
    "tokens = word_tokenize(text)\n",
    "pos_tag(tokens)"
   ]
  },
  {
   "cell_type": "code",
   "execution_count": 22,
   "id": "d82f3d49",
   "metadata": {},
   "outputs": [
    {
     "data": {
      "text/plain": [
       "[Synset('machine.n.01'),\n",
       " Synset('machine.n.02'),\n",
       " Synset('machine.n.03'),\n",
       " Synset('machine.n.04'),\n",
       " Synset('machine.n.05'),\n",
       " Synset('car.n.01'),\n",
       " Synset('machine.v.01'),\n",
       " Synset('machine.v.02')]"
      ]
     },
     "execution_count": 22,
     "metadata": {},
     "output_type": "execute_result"
    }
   ],
   "source": [
    "from nltk.corpus import wordnet\n",
    "\n",
    "wordnet.synsets('machine')"
   ]
  },
  {
   "cell_type": "code",
   "execution_count": 64,
   "id": "8f013e5f",
   "metadata": {},
   "outputs": [
    {
     "name": "stdout",
     "output_type": "stream",
     "text": [
      "('India', 'won', 'the', 'match', 'today')\n"
     ]
    }
   ],
   "source": [
    "from nltk import ngrams, trigrams, \n",
    "\n",
    "sentence = 'India won the match today'\n",
    "grams = ngrams( nltk.word_tokenize(sentence), n=5)\n",
    "print(\"\".join(str(g) for g in grams))"
   ]
  },
  {
   "cell_type": "code",
   "execution_count": 67,
   "id": "3f58de66",
   "metadata": {},
   "outputs": [
    {
     "name": "stdout",
     "output_type": "stream",
     "text": [
      "Unigrams: ['new', 'delhi', 'capital', 'india']\n"
     ]
    }
   ],
   "source": [
    "import nltk\n",
    "from nltk.tokenize import word_tokenize\n",
    "from nltk.corpus import stopwords\n",
    "import string\n",
    "\n",
    "# Sample text\n",
    "text = \"New Delhi is the capital of india\"\n",
    "\n",
    "# Tokenize the text into words\n",
    "words = word_tokenize(text.lower())\n",
    "\n",
    "# Remove punctuation\n",
    "words = [word for word in words if word.isalpha()]\n",
    "\n",
    "# Remove stopwords\n",
    "stop_words = set(stopwords.words('english'))\n",
    "unigrams = [word for word in words if word not in stop_words]\n",
    "\n",
    "print(\"Unigrams:\", unigrams)\n"
   ]
  },
  {
   "cell_type": "code",
   "execution_count": null,
   "id": "1dbf4893",
   "metadata": {},
   "outputs": [],
   "source": [
    "from nltk.wordnet"
   ]
  },
  {
   "cell_type": "code",
   "execution_count": 57,
   "id": "e93264a1",
   "metadata": {},
   "outputs": [],
   "source": [
    "Text= \"I like eating fruits such as apple, kiwi, orange, and guava. Also, I like eating fast foods like Pizza.\"\n"
   ]
  },
  {
   "cell_type": "code",
   "execution_count": 58,
   "id": "2cd1adb5",
   "metadata": {},
   "outputs": [
    {
     "name": "stdout",
     "output_type": "stream",
     "text": [
      "Vocabulary: 11\n"
     ]
    }
   ],
   "source": [
    "import nltk\n",
    "from nltk.tokenize import word_tokenize\n",
    "from nltk.corpus import stopwords\n",
    "from collections import Counter\n",
    "\n",
    "\n",
    "\n",
    "# Tokenize the text\n",
    "words = word_tokenize(Text.lower())\n",
    "\n",
    "# Remove stopwords and non-alphabetic tokens\n",
    "stop_words = set(stopwords.words('english'))\n",
    "words = [word for word in words if word.isalpha() and word not in stop_words]\n",
    "\n",
    "# Get the vocabulary (unique words)\n",
    "vocabulary = set(words)\n",
    "\n",
    "print(\"Vocabulary:\", len(vocabulary))\n"
   ]
  },
  {
   "cell_type": "code",
   "execution_count": null,
   "id": "cad0ec91",
   "metadata": {},
   "outputs": [],
   "source": []
  }
 ],
 "metadata": {
  "kernelspec": {
   "display_name": "Python 3 (ipykernel)",
   "language": "python",
   "name": "python3"
  },
  "language_info": {
   "codemirror_mode": {
    "name": "ipython",
    "version": 3
   },
   "file_extension": ".py",
   "mimetype": "text/x-python",
   "name": "python",
   "nbconvert_exporter": "python",
   "pygments_lexer": "ipython3",
   "version": "3.12.4"
  }
 },
 "nbformat": 4,
 "nbformat_minor": 5
}
